{
  "nbformat": 4,
  "nbformat_minor": 0,
  "metadata": {
    "colab": {
      "name": "phishing_main.ipynb",
      "provenance": [],
      "collapsed_sections": []
    },
    "kernelspec": { 
      "name": "python3",
      "display_name": "Python 3"
    },
    "language_info": {
      "name": "python"
    }
  },
  "cells": [
    {
      "cell_type": "markdown",
      "metadata": {
        "id": "WTVY5lz4vJQM"
      },
      "source": [
        "# **Phishing Website Detection by Machine Learning Techniques**\n",
        "\n",
        "Cyber Security!"
      ]
    },
    {
      "cell_type": "markdown",
      "metadata": {
        "id": "NOq598WCqIol"
      },
      "source": [
        "### **1. Loading Data:**\n",
        "\n",
        "The features are extracted and store in the csv file. The working of this can be seen in the 'main\n",
        ".ipynb' file.\n",
        "\n",
        "The reulted csv file is uploaded to this notebook and stored in the dataframe."
      ]
    },
    {
      "cell_type": "code",
      "metadata": {
        "id": "ao1KGaIhZirf"
      },
      "source": [
        "#importing basic packages\n",
        "import pandas as pd\n",
        "import numpy as np\n",
        "import seaborn as sns\n",
        "import matplotlib.pyplot as plt"
      ],
      "execution_count": 182,
      "outputs": []
    },
    {
      "cell_type": "code",
      "metadata": {
        "colab": {
          "base_uri": "https://localhost:8080/",
          "height": 223
        },
        "id": "Md6QuhuJZmR4",
        "outputId": "618b5800-2bf9-410a-fa3f-e6535f94007f"
      },
      "source": [
        "#Loading the data\n",
        "df = pd.read_csv('https://raw.githubusercontent.com/Foyjul-Islam-Raju/Phishing_Website_Detection/master/dataset.csv')\n",
        "df.head()"
      ],
      "execution_count": 183,
      "outputs": [
        {
          "output_type": "execute_result",
          "data": {
            "text/html": [
              "<div>\n",
              "<style scoped>\n",
              "    .dataframe tbody tr th:only-of-type {\n",
              "        vertical-align: middle;\n",
              "    }\n",
              "\n",
              "    .dataframe tbody tr th {\n",
              "        vertical-align: top;\n",
              "    }\n",
              "\n",
              "    .dataframe thead th {\n",
              "        text-align: right;\n",
              "    }\n",
              "</style>\n",
              "<table border=\"1\" class=\"dataframe\">\n",
              "  <thead>\n",
              "    <tr style=\"text-align: right;\">\n",
              "      <th></th>\n",
              "      <th>Domain</th>\n",
              "      <th>Have_IP</th>\n",
              "      <th>Have_At</th>\n",
              "      <th>URL_Length</th>\n",
              "      <th>URL_Depth</th>\n",
              "      <th>Redirection</th>\n",
              "      <th>https_Domain</th>\n",
              "      <th>TinyURL</th>\n",
              "      <th>Prefix/Suffix</th>\n",
              "      <th>DNS_Record</th>\n",
              "      <th>Web_Traffic</th>\n",
              "      <th>Domain_Age</th>\n",
              "      <th>Domain_End</th>\n",
              "      <th>iFrame</th>\n",
              "      <th>Mouse_Over</th>\n",
              "      <th>Right_Click</th>\n",
              "      <th>Web_Forwards</th>\n",
              "      <th>Label</th>\n",
              "    </tr>\n",
              "  </thead>\n",
              "  <tbody>\n",
              "    <tr>\n",
              "      <th>0</th>\n",
              "      <td>graphicriver.net</td>\n",
              "      <td>0</td>\n",
              "      <td>0</td>\n",
              "      <td>1</td>\n",
              "      <td>1</td>\n",
              "      <td>0</td>\n",
              "      <td>0</td>\n",
              "      <td>0</td>\n",
              "      <td>0</td>\n",
              "      <td>0</td>\n",
              "      <td>1</td>\n",
              "      <td>1</td>\n",
              "      <td>1</td>\n",
              "      <td>0</td>\n",
              "      <td>0</td>\n",
              "      <td>1</td>\n",
              "      <td>0</td>\n",
              "      <td>0</td>\n",
              "    </tr>\n",
              "    <tr>\n",
              "      <th>1</th>\n",
              "      <td>ecnavi.jp</td>\n",
              "      <td>0</td>\n",
              "      <td>0</td>\n",
              "      <td>1</td>\n",
              "      <td>1</td>\n",
              "      <td>1</td>\n",
              "      <td>0</td>\n",
              "      <td>0</td>\n",
              "      <td>0</td>\n",
              "      <td>0</td>\n",
              "      <td>1</td>\n",
              "      <td>1</td>\n",
              "      <td>1</td>\n",
              "      <td>0</td>\n",
              "      <td>0</td>\n",
              "      <td>1</td>\n",
              "      <td>0</td>\n",
              "      <td>0</td>\n",
              "    </tr>\n",
              "    <tr>\n",
              "      <th>2</th>\n",
              "      <td>hubpages.com</td>\n",
              "      <td>0</td>\n",
              "      <td>0</td>\n",
              "      <td>1</td>\n",
              "      <td>1</td>\n",
              "      <td>0</td>\n",
              "      <td>0</td>\n",
              "      <td>0</td>\n",
              "      <td>0</td>\n",
              "      <td>0</td>\n",
              "      <td>1</td>\n",
              "      <td>0</td>\n",
              "      <td>1</td>\n",
              "      <td>0</td>\n",
              "      <td>0</td>\n",
              "      <td>1</td>\n",
              "      <td>0</td>\n",
              "      <td>0</td>\n",
              "    </tr>\n",
              "    <tr>\n", 
              "      <th>3</th>\n",
              "      <td>extratorrent.cc</td>\n",
              "      <td>0</td>\n",
              "      <td>0</td>\n",
              "      <td>1</td>\n",
              "      <td>3</td>\n",
              "      <td>0</td>\n",
              "      <td>0</td>\n",
              "      <td>0</td>\n",
              "      <td>0</td>\n",
              "      <td>0</td>\n",
              "      <td>1</td>\n",
              "      <td>0</td>\n",
              "      <td>1</td>\n",
              "      <td>0</td>\n",
              "      <td>0</td>\n",
              "      <td>1</td>\n",
              "      <td>0</td>\n",
              "      <td>0</td>\n",
              "    </tr>\n",
              "    <tr>\n",
              "      <th>4</th>\n",
              "      <td>icicibank.com</td>\n",
              "      <td>0</td>\n",
              "      <td>0</td>\n",
              "      <td>1</td>\n",
              "      <td>3</td>\n",
              "      <td>0</td>\n",
              "      <td>0</td>\n",
              "      <td>0</td>\n",
              "      <td>0</td>\n",
              "      <td>0</td>\n",
              "      <td>1</td>\n",
              "      <td>0</td>\n",
              "      <td>1</td>\n",
              "      <td>0</td>\n",
              "      <td>0</td>\n",
              "      <td>1</td>\n",
              "      <td>0</td>\n",
              "      <td>0</td>\n",
              "    </tr>\n",
              "  </tbody>\n",
              "</table>\n",
              "</div>"
            ],
            "text/plain": [
              "             Domain  Have_IP  Have_At  ...  Right_Click  Web_Forwards  Label\n",
              "0  graphicriver.net        0        0  ...            1             0      0\n",
              "1         ecnavi.jp        0        0  ...            1             0      0\n",
              "2      hubpages.com        0        0  ...            1             0      0\n",
              "3   extratorrent.cc        0        0  ...            1             0      0\n",
              "4     icicibank.com        0        0  ...            1             0      0\n",
              "\n",
              "[5 rows x 18 columns]"
            ]
          },
          "metadata": {},
          "execution_count": 183
        }
      ]
    },
    {
      "cell_type": "markdown",
      "metadata": {
        "id": "lMXihulvMcAj"
      },
      "source": [
        "### **2. Familiarizing with Data**\n",
        "In this step, few dataframe methods are used to look into the data and its features."
      ]
    },
    {
      "cell_type": "code",
      "metadata": {
        "colab": {
          "base_uri": "https://localhost:8080/"
        },
        "id": "Eor_ibBBZ5UN",
        "outputId": "edece7cc-fb17-466d-a974-2b5f4d4c02ce"
      },
      "source": [
        "#Checking the shape of the dataset\n",
        "df.shape"
      ],
      "execution_count": 184,
      "outputs": [
        {
          "output_type": "execute_result",
          "data": {
            "text/plain": [
              "(10000, 18)"
            ]
          },
          "metadata": {},
          "execution_count": 184
        }
      ]
    },
    {
      "cell_type": "code",
      "metadata": {
        "colab": {
          "base_uri": "https://localhost:8080/"
        },
        "id": "19RanjzBZ6Tf",
        "outputId": "5f36d3c8-3dee-4013-a6e9-22ff7606f1c5"
      },
      "source": [
        "#Listing the features of the dataset\n",
        "df.columns"
      ],
      "execution_count": 185,
      "outputs": [
        {
          "output_type": "execute_result",
          "data": {
            "text/plain": [
              "Index(['Domain', 'Have_IP', 'Have_At', 'URL_Length', 'URL_Depth',\n",
              "       'Redirection', 'https_Domain', 'TinyURL', 'Prefix/Suffix', 'DNS_Record',\n",
              "       'Web_Traffic', 'Domain_Age', 'Domain_End', 'iFrame', 'Mouse_Over',\n",
              "       'Right_Click', 'Web_Forwards', 'Label'],\n",
              "      dtype='object')"
            ]
          },
          "metadata": {},
          "execution_count": 185
        }
      ]
    },
    {
      "cell_type": "code",
      "metadata": {
        "colab": {
          "base_uri": "https://localhost:8080/"
        },
        "id": "wz3Go2P9Z8Wa",
        "outputId": "6bfdf4d8-6ce7-45e7-e97d-b6823e0986bd"
      },
      "source": [
        "#Information about the dataset\n",
        "df.info()"
      ],
      "execution_count": 186,
      "outputs": [
        {
          "output_type": "stream",
          "text": [
            "<class 'pandas.core.frame.DataFrame'>\n",
            "RangeIndex: 10000 entries, 0 to 9999\n",
            "Data columns (total 18 columns):\n",
            " #   Column         Non-Null Count  Dtype \n",
            "---  ------         --------------  ----- \n",
            " 0   Domain         10000 non-null  object\n",
            " 1   Have_IP        10000 non-null  int64 \n",
            " 2   Have_At        10000 non-null  int64 \n",
            " 3   URL_Length     10000 non-null  int64 \n",
            " 4   URL_Depth      10000 non-null  int64 \n",
            " 5   Redirection    10000 non-null  int64 \n",
            " 6   https_Domain   10000 non-null  int64 \n",
            " 7   TinyURL        10000 non-null  int64 \n",
            " 8   Prefix/Suffix  10000 non-null  int64 \n",
            " 9   DNS_Record     10000 non-null  int64 \n",
            " 10  Web_Traffic    10000 non-null  int64 \n",
            " 11  Domain_Age     10000 non-null  int64 \n",
            " 12  Domain_End     10000 non-null  int64 \n",
            " 13  iFrame         10000 non-null  int64 \n",
            " 14  Mouse_Over     10000 non-null  int64 \n",
            " 15  Right_Click    10000 non-null  int64 \n",
            " 16  Web_Forwards   10000 non-null  int64 \n",
            " 17  Label          10000 non-null  int64 \n",
            "dtypes: int64(17), object(1)\n",
            "memory usage: 1.4+ MB\n"
          ],
          "name": "stdout"
        }
      ]
    },
    {
      "cell_type": "markdown",
      "metadata": {
        "id": "CfrxhE3pNfiw"
      },
      "source": [
        "### **3. Visualizing the data**\n",
        "Few plots and graphs are displayed to find how the data is distributed and the how features are related to each other."
      ]
    },
    {
      "cell_type": "code",
      "metadata": {
        "colab": {
          "base_uri": "https://localhost:8080/",
          "height": 879
        },
        "id": "7yPOy4xBaIgH",
        "outputId": "e33c999a-28e6-474c-a8b8-9cc71b74eb7e"
      },
      "source": [
        "#Plotting the data distribution\n",
        "df.hist(bins = 50,figsize = (15,15))\n",
        "plt.show()"
      ],
      "execution_count": 187,
      "outputs": [
        {
          "output_type": "display_data",
          "data": {
            "image/png": "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
